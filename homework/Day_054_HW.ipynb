{
 "cells": [
  {
   "cell_type": "markdown",
   "metadata": {},
   "source": [
    "# 作業\n",
    "* 試著想想看, 非監督學習是否有可能使用評價函數 (Metric) 來鑑別好壞呢?  \n",
    "(Hint : 可以分為 \"有目標值\" 與 \"無目標值\" 兩個方向思考)\n",
    "\n",
    "沒有辦法來鑑別好壞\n",
    "因非監督學習的方式，沒有目標值，等於資料裡面沒有所謂的\"好\"或者是\"壞\"。\n",
    "取而代之，可以做的方式是依照資料的特性來進行分類。但是這樣的分類只代表著同一組的資料有相同特性，組跟組之間，單純特性不同。\n",
    "像是以膚色來分類人種，有白皮膚、黃皮膚、黑皮膚，但是沒辦法來鑑別哪一組比較好"
   ]
  },
  {
   "cell_type": "code",
   "execution_count": null,
   "metadata": {
    "collapsed": true
   },
   "outputs": [],
   "source": []
  }
 ],
 "metadata": {
  "kernelspec": {
   "display_name": "Python 3",
   "language": "python",
   "name": "python3"
  },
  "language_info": {
   "codemirror_mode": {
    "name": "ipython",
    "version": 3
   },
   "file_extension": ".py",
   "mimetype": "text/x-python",
   "name": "python",
   "nbconvert_exporter": "python",
   "pygments_lexer": "ipython3",
   "version": "3.7.1"
  }
 },
 "nbformat": 4,
 "nbformat_minor": 1
}
